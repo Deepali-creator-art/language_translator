{
 "cells": [
  {
   "cell_type": "code",
   "execution_count": 2,
   "id": "cd011aed",
   "metadata": {},
   "outputs": [],
   "source": [
    "from tkinter import *\n",
    "from tkinter import ttk\n",
    "from googletrans import LANGUAGES, Translator\n",
    "import speech_recognition as sr\n",
    "\n",
    "\n",
    "# Initialize the main window\n",
    "window = Tk()\n",
    "window.geometry('1080x480')\n",
    "window.config(bg='#EFC3CA')\n",
    "window.title('Language Translator')\n",
    "\n",
    "# Add labels for the title and language selection\n",
    "Label(window, text='Language Translator', font='Arial 20 bold').place(x=390, y=50)\n",
    "Label(window, text='Source Language', font='Arial 15').place(x=100, y=100)\n",
    "Label(window, text='Destination Language', font='Arial 15').place(x=650, y=100)\n",
    "\n",
    "# Populate the language list from googletrans LANGUAGES\n",
    "language_list = list(LANGUAGES.values())\n",
    "\n",
    "# Create dropdown menus for source and destination languages\n",
    "s = ttk.Combobox(window, values=language_list)\n",
    "s.place(x=270, y=100)\n",
    "s.set('English')  # Set default language\n",
    "\n",
    "d = ttk.Combobox(window, values=language_list)\n",
    "d.place(x=850, y=100)\n",
    "d.set('Spanish')  # Set default language\n",
    "\n",
    "# Create text boxes for input and output\n",
    "Input_text = Text(window, height=15, font='Arial 10', width=50)\n",
    "Input_text.place(x=100, y=150)\n",
    "\n",
    "Output_text = Text(window, height=15, width=50, font='Arial 10')\n",
    "Output_text.place(x=650, y=150)\n",
    "\n",
    "# Function to perform the translation\n",
    "def Translate():\n",
    "    t1 = Translator()\n",
    "    translated = t1.translate(text=Input_text.get(1.0, END), src=s.get(), dest=d.get())\n",
    "    Output_text.delete(1.0, END)\n",
    "    Output_text.insert(END, translated.text)\n",
    "\n",
    "# Function to convert voice to text\n",
    "def voice_to_text():\n",
    "    recognizer = sr.Recognizer()\n",
    "    with sr.Microphone() as source:\n",
    "        try:\n",
    "            print(\"Listening...\")\n",
    "            audio = recognizer.listen(source)\n",
    "            print(\"Recognizing...\")\n",
    "            text = recognizer.recognize_google(audio)\n",
    "            Input_text.delete(1.0, END)\n",
    "            Input_text.insert(END, text)\n",
    "        except sr.UnknownValueError:\n",
    "            Input_text.delete(1.0, END)\n",
    "            Input_text.insert(END, \"Sorry, I did not understand that.\")\n",
    "        except sr.RequestError:\n",
    "            Input_text.delete(1.0, END)\n",
    "            Input_text.insert(END, \"Sorry, the service is unavailable at the moment.\")\n",
    "\n",
    "# Add buttons to trigger the translation and voice-to-text functions\n",
    "trans_but = Button(window, text='Translate', font='Arial 15', height=2, width=9, command=Translate)\n",
    "trans_but.place(x=500, y=380)\n",
    "\n",
    "voice_but = Button(window, text='Speak', font='Arial 15', height=2, width=9, command=voice_to_text)\n",
    "voice_but.place(x=370, y=380)\n",
    "\n",
    "# Run the main loop to display the window\n",
    "window.mainloop()\n"
   ]
  },
  {
   "cell_type": "code",
   "execution_count": 1,
   "id": "0f5ae3b5",
   "metadata": {},
   "outputs": [
    {
     "name": "stdout",
     "output_type": "stream",
     "text": [
      "gu\n",
      "gu\n",
      "gu\n",
      "gu\n",
      "gu\n"
     ]
    },
    {
     "name": "stderr",
     "output_type": "stream",
     "text": [
      "\n",
      "    Error 259 for command:\n",
      "        play translated_text.mp3 wait\n",
      "    The driver cannot recognize the specified command parameter.\n"
     ]
    },
    {
     "name": "stdout",
     "output_type": "stream",
     "text": [
      "Error: \n",
      "    Error 259 for command:\n",
      "        play translated_text.mp3 wait\n",
      "    The driver cannot recognize the specified command parameter.\n",
      "gu\n"
     ]
    }
   ],
   "source": [
    "from tkinter import *\n",
    "from tkinter import ttk\n",
    "from googletrans import LANGUAGES, Translator\n",
    "from gtts import gTTS\n",
    "from playsound import playsound\n",
    "import os\n",
    "\n",
    "window = Tk()\n",
    "window.geometry('800x500')\n",
    "window.config(bg='#85929E')\n",
    "window.title(\"Niks Translater\")\n",
    "\n",
    "\n",
    "def Translate():\n",
    "    t1 = Translator()\n",
    "    translated = t1.translate(text=input_text.get(1.0, END), src=s.get(), dest=s1.get())\n",
    "    output_text.delete(1.0, END)\n",
    "    output_text.insert(END, translated.text)\n",
    "\n",
    "\n",
    "def Speak():\n",
    "    translated_text = output_text.get(1.0, END).strip()\n",
    "    if translated_text:\n",
    "        try:\n",
    "            lang_code = list(LANGUAGES.keys())[list(LANGUAGES.values()).index(s1.get())]\n",
    "            print(lang_code)\n",
    "            tts = gTTS(text=translated_text, lang=lang_code)\n",
    "            audio_file = \"translated_text.mp3\"\n",
    "            tts.save(audio_file)\n",
    "            playsound(audio_file)\n",
    "            os.remove(audio_file) \n",
    "        except Exception as e:\n",
    "            print(f\"Error: {e}\")\n",
    "\n",
    "\n",
    "Label(window, text='Language Translater', font='arial 20 bold').place(x=260, y=20)\n",
    "Label(window, text='Source Language : ').place(x=50, y=100)\n",
    "Label(window, text='Result : ').place(x=430, y=100)\n",
    "\n",
    "# Language list generation using googletrans\n",
    "lang_list = list(LANGUAGES.values())\n",
    "\n",
    "s = ttk.Combobox(window, values=lang_list)\n",
    "s.set('Select Language')\n",
    "s.place(x=160, y=100)\n",
    "\n",
    "s1 = ttk.Combobox(window, values=lang_list)\n",
    "s1.set('Select Language')\n",
    "s1.place(x=490, y=100)\n",
    "\n",
    "input_text = Text(window, height=8, width=40)\n",
    "input_text.place(x=50, y=130)\n",
    "\n",
    "output_text = Text(window, height=8, width=40)\n",
    "output_text.place(x=430, y=130)\n",
    "\n",
    "Button(window, text='Translate', command=Translate).place(x=320, y=300)\n",
    "Button(window, text='Speak', command=Speak).place(x=420, y=300)\n",
    "\n",
    "window.mainloop()"
   ]
  },
  {
   "cell_type": "code",
   "execution_count": 3,
   "id": "9929ece7",
   "metadata": {},
   "outputs": [
    {
     "name": "stdout",
     "output_type": "stream",
     "text": [
      "Collecting playsoundNote: you may need to restart the kernel to use updated packages.\n"
     ]
    },
    {
     "name": "stderr",
     "output_type": "stream",
     "text": [
      "  error: subprocess-exited-with-error\n",
      "  \n",
      "  × Getting requirements to build wheel did not run successfully.\n",
      "  │ exit code: 1\n",
      "  ╰─> [28 lines of output]\n",
      "      Traceback (most recent call last):\n",
      "        File \"c:\\Users\\Lenovo\\AppData\\Local\\Programs\\Python\\Python312\\Lib\\site-packages\\pip\\_vendor\\pyproject_hooks\\_in_process\\_in_process.py\", line 353, in <module>\n",
      "          main()\n",
      "        File \"c:\\Users\\Lenovo\\AppData\\Local\\Programs\\Python\\Python312\\Lib\\site-packages\\pip\\_vendor\\pyproject_hooks\\_in_process\\_in_process.py\", line 335, in main\n",
      "          json_out['return_val'] = hook(**hook_input['kwargs'])\n",
      "                                   ^^^^^^^^^^^^^^^^^^^^^^^^^^^^\n",
      "        File \"c:\\Users\\Lenovo\\AppData\\Local\\Programs\\Python\\Python312\\Lib\\site-packages\\pip\\_vendor\\pyproject_hooks\\_in_process\\_in_process.py\", line 118, in get_requires_for_build_wheel\n",
      "          return hook(config_settings)\n",
      "                 ^^^^^^^^^^^^^^^^^^^^^\n",
      "        File \"C:\\Users\\Lenovo\\AppData\\Local\\Temp\\pip-build-env-xcjh3a0l\\overlay\\Lib\\site-packages\\setuptools\\build_meta.py\", line 327, in get_requires_for_build_wheel\n",
      "          return self._get_build_requires(config_settings, requirements=[])\n",
      "                 ^^^^^^^^^^^^^^^^^^^^^^^^^^^^^^^^^^^^^^^^^^^^^^^^^^^^^^^^^^\n",
      "        File \"C:\\Users\\Lenovo\\AppData\\Local\\Temp\\pip-build-env-xcjh3a0l\\overlay\\Lib\\site-packages\\setuptools\\build_meta.py\", line 297, in _get_build_requires\n",
      "          self.run_setup()\n",
      "        File \"C:\\Users\\Lenovo\\AppData\\Local\\Temp\\pip-build-env-xcjh3a0l\\overlay\\Lib\\site-packages\\setuptools\\build_meta.py\", line 497, in run_setup\n",
      "          super().run_setup(setup_script=setup_script)\n",
      "        File \"C:\\Users\\Lenovo\\AppData\\Local\\Temp\\pip-build-env-xcjh3a0l\\overlay\\Lib\\site-packages\\setuptools\\build_meta.py\", line 313, in run_setup\n",
      "          exec(code, locals())\n",
      "        File \"<string>\", line 6, in <module>\n",
      "        File \"c:\\Users\\Lenovo\\AppData\\Local\\Programs\\Python\\Python312\\Lib\\inspect.py\", line 1282, in getsource\n",
      "          lines, lnum = getsourcelines(object)\n",
      "                        ^^^^^^^^^^^^^^^^^^^^^^\n",
      "        File \"c:\\Users\\Lenovo\\AppData\\Local\\Programs\\Python\\Python312\\Lib\\inspect.py\", line 1264, in getsourcelines\n",
      "          lines, lnum = findsource(object)\n",
      "                        ^^^^^^^^^^^^^^^^^^\n",
      "        File \"c:\\Users\\Lenovo\\AppData\\Local\\Programs\\Python\\Python312\\Lib\\inspect.py\", line 1093, in findsource\n",
      "          raise OSError('could not get source code')\n",
      "      OSError: could not get source code\n",
      "      [end of output]\n",
      "  \n",
      "  note: This error originates from a subprocess, and is likely not a problem with pip.\n",
      "error: subprocess-exited-with-error\n",
      "\n",
      "× Getting requirements to build wheel did not run successfully.\n",
      "│ exit code: 1\n",
      "╰─> See above for output.\n",
      "\n",
      "note: This error originates from a subprocess, and is likely not a problem with pip.\n",
      "\n",
      "[notice] A new release of pip is available: 24.0 -> 24.1\n",
      "[notice] To update, run: python.exe -m pip install --upgrade pip\n"
     ]
    },
    {
     "name": "stdout",
     "output_type": "stream",
     "text": [
      "\n",
      "  Using cached playsound-1.3.0.tar.gz (7.7 kB)\n",
      "  Installing build dependencies: started\n",
      "  Installing build dependencies: finished with status 'done'\n",
      "  Getting requirements to build wheel: started\n",
      "  Getting requirements to build wheel: finished with status 'error'\n"
     ]
    }
   ],
   "source": [
    "pip install playsound"
   ]
  },
  {
   "cell_type": "code",
   "execution_count": 4,
   "id": "3212c065",
   "metadata": {},
   "outputs": [
    {
     "name": "stdout",
     "output_type": "stream",
     "text": [
      "Collecting setuptools\n",
      "  Using cached setuptools-70.1.0-py3-none-any.whl.metadata (6.0 kB)\n",
      "Requirement already satisfied: wheel in c:\\users\\lenovo\\appdata\\local\\programs\\python\\python312\\lib\\site-packages (0.43.0)\n",
      "Using cached setuptools-70.1.0-py3-none-any.whl (882 kB)\n",
      "Installing collected packages: setuptools\n",
      "Successfully installed setuptools-70.1.0\n",
      "Note: you may need to restart the kernel to use updated packages.\n"
     ]
    },
    {
     "name": "stderr",
     "output_type": "stream",
     "text": [
      "\n",
      "[notice] A new release of pip is available: 24.0 -> 24.1\n",
      "[notice] To update, run: python.exe -m pip install --upgrade pip\n"
     ]
    }
   ],
   "source": [
    "pip install --upgrade setuptools wheel"
   ]
  },
  {
   "cell_type": "code",
   "execution_count": 5,
   "id": "2d14d3fd",
   "metadata": {},
   "outputs": [
    {
     "name": "stdout",
     "output_type": "stream",
     "text": [
      "Collecting playsound\n",
      "  Using cached playsound-1.3.0.tar.gz (7.7 kB)\n",
      "  Preparing metadata (setup.py): started\n",
      "  Preparing metadata (setup.py): finished with status 'done'\n",
      "Building wheels for collected packages: playsound\n",
      "  Building wheel for playsound (setup.py): started\n",
      "  Building wheel for playsound (setup.py): finished with status 'done'\n",
      "  Created wheel for playsound: filename=playsound-1.3.0-py3-none-any.whl size=7045 sha256=2c96eea7bc048b301df6061ed6c5df7485b5fee27950f8401d60874d7c597b06\n",
      "  Stored in directory: c:\\users\\lenovo\\appdata\\local\\pip\\cache\\wheels\\cf\\42\\ff\\7c587bae55eec67b909ca316b250d9b4daedbf272a3cbeb907\n",
      "Successfully built playsound\n",
      "Installing collected packages: playsound\n",
      "Successfully installed playsound-1.3.0\n",
      "Note: you may need to restart the kernel to use updated packages.\n"
     ]
    },
    {
     "name": "stderr",
     "output_type": "stream",
     "text": [
      "\n",
      "[notice] A new release of pip is available: 24.0 -> 24.1\n",
      "[notice] To update, run: python.exe -m pip install --upgrade pip\n"
     ]
    }
   ],
   "source": [
    "pip install playsound"
   ]
  },
  {
   "cell_type": "code",
   "execution_count": 6,
   "id": "61bebaa2",
   "metadata": {},
   "outputs": [
    {
     "name": "stdout",
     "output_type": "stream",
     "text": [
      "Collecting gtts\n",
      "  Downloading gTTS-2.5.1-py3-none-any.whl.metadata (4.1 kB)\n",
      "Requirement already satisfied: requests<3,>=2.27 in c:\\users\\lenovo\\appdata\\local\\programs\\python\\python312\\lib\\site-packages (from gtts) (2.31.0)\n",
      "Collecting click<8.2,>=7.1 (from gtts)\n",
      "  Downloading click-8.1.7-py3-none-any.whl.metadata (3.0 kB)\n",
      "Requirement already satisfied: colorama in c:\\users\\lenovo\\appdata\\roaming\\python\\python312\\site-packages (from click<8.2,>=7.1->gtts) (0.4.6)\n",
      "Requirement already satisfied: charset-normalizer<4,>=2 in c:\\users\\lenovo\\appdata\\local\\programs\\python\\python312\\lib\\site-packages (from requests<3,>=2.27->gtts) (3.3.2)\n",
      "Requirement already satisfied: idna<4,>=2.5 in c:\\users\\lenovo\\appdata\\local\\programs\\python\\python312\\lib\\site-packages (from requests<3,>=2.27->gtts) (2.10)\n",
      "Requirement already satisfied: urllib3<3,>=1.21.1 in c:\\users\\lenovo\\appdata\\local\\programs\\python\\python312\\lib\\site-packages (from requests<3,>=2.27->gtts) (2.2.1)\n",
      "Requirement already satisfied: certifi>=2017.4.17 in c:\\users\\lenovo\\appdata\\local\\programs\\python\\python312\\lib\\site-packages (from requests<3,>=2.27->gtts) (2024.2.2)\n",
      "Downloading gTTS-2.5.1-py3-none-any.whl (29 kB)\n",
      "Downloading click-8.1.7-py3-none-any.whl (97 kB)\n",
      "   ---------------------------------------- 0.0/97.9 kB ? eta -:--:--\n",
      "   ---- ----------------------------------- 10.2/97.9 kB ? eta -:--:--\n",
      "   ---------------- ----------------------- 41.0/97.9 kB 653.6 kB/s eta 0:00:01\n",
      "   ---------------------------------------- 97.9/97.9 kB 943.0 kB/s eta 0:00:00\n",
      "Installing collected packages: click, gtts\n",
      "Successfully installed click-8.1.7 gtts-2.5.1\n",
      "Note: you may need to restart the kernel to use updated packages.\n"
     ]
    },
    {
     "name": "stderr",
     "output_type": "stream",
     "text": [
      "\n",
      "[notice] A new release of pip is available: 24.0 -> 24.1\n",
      "[notice] To update, run: python.exe -m pip install --upgrade pip\n"
     ]
    }
   ],
   "source": [
    "pip install gtts"
   ]
  },
  {
   "cell_type": "code",
   "execution_count": null,
   "id": "89ca1011",
   "metadata": {},
   "outputs": [],
   "source": []
  }
 ],
 "metadata": {
  "kernelspec": {
   "display_name": "Python 3 (ipykernel)",
   "language": "python",
   "name": "python3"
  },
  "language_info": {
   "codemirror_mode": {
    "name": "ipython",
    "version": 3
   },
   "file_extension": ".py",
   "mimetype": "text/x-python",
   "name": "python",
   "nbconvert_exporter": "python",
   "pygments_lexer": "ipython3",
   "version": "3.12.4"
  }
 },
 "nbformat": 4,
 "nbformat_minor": 5
}
